{
 "cells": [
  {
   "cell_type": "markdown",
   "id": "915ac68a",
   "metadata": {},
   "source": [
    "###  what are functions"
   ]
  },
  {
   "cell_type": "markdown",
   "id": "e839ee1b",
   "metadata": {},
   "source": [
    "### def is_even(i):\n",
    "x=i%2==0\n",
    "\n",
    "return x\n",
    "\n",
    "is_even(7)\n",
    "    "
   ]
  },
  {
   "cell_type": "markdown",
   "id": "87963e5c",
   "metadata": {},
   "source": [
    "###  define function \n",
    "# explain"
   ]
  },
  {
   "cell_type": "markdown",
   "id": "1bf9a53e",
   "metadata": {},
   "source": [
    "###  def - keyword\n",
    "\n",
    "# is_even - name\n",
    "\n",
    "# i - parameters or arguments\n",
    "\n",
    "# print(\"inside is_even\")\n",
    "                                         - body\n",
    "# return i%2 ==0\n",
    "\n",
    "\n",
    "# is_even(7) - later in the code,you call the function using its name and values for parameters"
   ]
  },
  {
   "cell_type": "markdown",
   "id": "af03c951",
   "metadata": {},
   "source": [
    "###  let's create a function"
   ]
  },
  {
   "cell_type": "code",
   "execution_count": 9,
   "id": "23543ccf",
   "metadata": {},
   "outputs": [
    {
     "name": "stdout",
     "output_type": "stream",
     "text": [
      "odd\n",
      "even\n",
      "odd\n",
      "even\n",
      "odd\n",
      "even\n",
      "odd\n",
      "even\n",
      "odd\n",
      "even\n"
     ]
    }
   ],
   "source": [
    "def is_evenodd(number):\n",
    "  # this function tells if a given number is odd or even\n",
    "  #input - any valid integer\n",
    "  # output - odd/even\n",
    "  # created by - Nitish\n",
    "  # last edited - 15 jan 2021\n",
    "    \n",
    "    if number%2==0:\n",
    "        return \"even\"\n",
    "    else:\n",
    "        return \"odd\"\n",
    "for i in range(1,11):\n",
    "    print(is_evenodd(i))\n"
   ]
  },
  {
   "cell_type": "code",
   "execution_count": 10,
   "id": "36809483",
   "metadata": {},
   "outputs": [
    {
     "name": "stdout",
     "output_type": "stream",
     "text": [
      "None\n"
     ]
    }
   ],
   "source": [
    "print(is_evenodd.__doc__)"
   ]
  },
  {
   "cell_type": "markdown",
   "id": "e07d1053",
   "metadata": {},
   "source": [
    "###  the some points of views"
   ]
  },
  {
   "cell_type": "code",
   "execution_count": 13,
   "id": "1c2a4cc4",
   "metadata": {},
   "outputs": [
    {
     "name": "stdout",
     "output_type": "stream",
     "text": [
      "odd\n",
      "even\n",
      "odd\n",
      "even\n",
      "odd\n",
      "even\n",
      "odd\n",
      "even\n",
      "odd\n",
      "even\n"
     ]
    }
   ],
   "source": [
    "def is_evenodd(number):\n",
    "    if type(number)==int:\n",
    "        if number%2==0:\n",
    "            return \"even\"\n",
    "        else:\n",
    "            return \"odd\"\n",
    "    else:\n",
    "        return \"only_int_vailid\"\n",
    "for i in range(1,11):\n",
    "    print(is_evenodd(i))"
   ]
  },
  {
   "cell_type": "markdown",
   "id": "f19ccae5",
   "metadata": {},
   "source": [
    "###  parameters - (number)\n",
    "# arguments - (1,11)"
   ]
  },
  {
   "cell_type": "code",
   "execution_count": 15,
   "id": "29090cf6",
   "metadata": {},
   "outputs": [
    {
     "name": "stdout",
     "output_type": "stream",
     "text": [
      "only_int_vailid\n"
     ]
    }
   ],
   "source": [
    "def is_evenodd(number):\n",
    "    if type(number)==int:\n",
    "        if number%2==0:\n",
    "            return \"even\"\n",
    "        else:\n",
    "            return \"odd\"\n",
    "    else:\n",
    "        return \"only_int_vailid\"\n",
    "\n",
    "print(is_evenodd(\"helloworld\"))"
   ]
  },
  {
   "cell_type": "markdown",
   "id": "c7608967",
   "metadata": {},
   "source": [
    "### pythontutor.com\n",
    "# visualize Execution in memory"
   ]
  },
  {
   "cell_type": "markdown",
   "id": "5ea04973",
   "metadata": {},
   "source": [
    "###  parameters vs argument\n",
    "# 1. default arguments\n",
    "# 2. positional arguments\n",
    "# 3. keyword arguments\n",
    "# 4. arbitrary arguments"
   ]
  },
  {
   "cell_type": "markdown",
   "id": "cb902f58",
   "metadata": {},
   "source": [
    "###  1.discuss default argument"
   ]
  },
  {
   "cell_type": "code",
   "execution_count": 3,
   "id": "e9644695",
   "metadata": {},
   "outputs": [
    {
     "name": "stdout",
     "output_type": "stream",
     "text": [
      "8\n",
      "2\n"
     ]
    }
   ],
   "source": [
    "def power(a=1,b=1):\n",
    "    return(a**b)\n",
    "print(power(2,3))\n",
    "print(power(2))\n"
   ]
  },
  {
   "cell_type": "markdown",
   "id": "737a63ed",
   "metadata": {},
   "source": [
    "### default argument me function ko defined karte samay 2 parameters define kiye hai aur call karte samay ek argument diye hai to phir bhi output aayega"
   ]
  },
  {
   "cell_type": "markdown",
   "id": "1b4455dd",
   "metadata": {},
   "source": [
    "### 2. discuss positional argument\n",
    "# jis order me parameters define karenge usi order me argument pass hoga"
   ]
  },
  {
   "cell_type": "markdown",
   "id": "b274665f",
   "metadata": {},
   "source": [
    "### 3. keyword argument\n"
   ]
  },
  {
   "cell_type": "code",
   "execution_count": 1,
   "id": "0ae08829",
   "metadata": {},
   "outputs": [
    {
     "name": "stdout",
     "output_type": "stream",
     "text": [
      "geeks practice\n",
      "geeks practice\n"
     ]
    }
   ],
   "source": [
    "def student(firstname,lastname):\n",
    "    print(firstname,lastname)\n",
    "# keyword argument\n",
    "student(firstname='geeks',lastname='practice')\n",
    "student(lastname='practice',firstname='geeks')"
   ]
  },
  {
   "cell_type": "markdown",
   "id": "2a2c9b89",
   "metadata": {},
   "source": [
    "###  4. arbitrary argument"
   ]
  },
  {
   "cell_type": "code",
   "execution_count": 13,
   "id": "07c91870",
   "metadata": {},
   "outputs": [],
   "source": [
    "def flexi(*number):\n",
    "    product = 1\n",
    "    print(number)\n",
    "    print(type(number))\n",
    "    for i in number:\n",
    "        product=product*i\n",
    "    print(product)"
   ]
  },
  {
   "cell_type": "code",
   "execution_count": 14,
   "id": "6fb397c8",
   "metadata": {},
   "outputs": [
    {
     "name": "stdout",
     "output_type": "stream",
     "text": [
      "(1, 2, 3, 4, 5)\n",
      "<class 'tuple'>\n",
      "120\n"
     ]
    }
   ],
   "source": [
    "flexi(1,2,3,4,5)"
   ]
  },
  {
   "cell_type": "markdown",
   "id": "3b649475",
   "metadata": {},
   "source": [
    "###  global var and local var"
   ]
  },
  {
   "cell_type": "code",
   "execution_count": 15,
   "id": "858485fb",
   "metadata": {},
   "outputs": [
    {
     "name": "stdout",
     "output_type": "stream",
     "text": [
      "inside func_a\n",
      "None\n",
      "inside func_b\n",
      "7\n"
     ]
    }
   ],
   "source": [
    "def func_a():\n",
    "    print('inside func_a')\n",
    "\n",
    "def func_b(y):\n",
    "    print('inside func_b')\n",
    "    return y\n",
    "\n",
    "print(func_a())\n",
    "print(5+func_b(2))"
   ]
  },
  {
   "cell_type": "code",
   "execution_count": 16,
   "id": "7c8446e2",
   "metadata": {},
   "outputs": [
    {
     "name": "stdout",
     "output_type": "stream",
     "text": [
      "2\n",
      "5\n"
     ]
    }
   ],
   "source": [
    "def f(y):\n",
    "    x=1\n",
    "    x+=1\n",
    "    print(x)\n",
    "x=5\n",
    "f(x)\n",
    "print(x)"
   ]
  },
  {
   "cell_type": "markdown",
   "id": "50c7f3d6",
   "metadata": {},
   "source": [
    "###  what is local variable and global variable\n",
    "# global variable are declared outside all the function blocks.\n",
    "# local variables are declared with in a function block."
   ]
  },
  {
   "cell_type": "code",
   "execution_count": 21,
   "id": "27ed67d4",
   "metadata": {},
   "outputs": [
    {
     "name": "stdout",
     "output_type": "stream",
     "text": [
      "5\n",
      "6\n",
      "5\n"
     ]
    }
   ],
   "source": [
    "def g(y):\n",
    "    print(x)\n",
    "    print(x+1)\n",
    "x=5\n",
    "g(x)\n",
    "print(x)\n",
    "# x=5 is global variable"
   ]
  },
  {
   "cell_type": "markdown",
   "id": "34d7f6fb",
   "metadata": {},
   "source": [
    "# code\n",
    "### def h(y):\n",
    "    x +=1   # leads to an error without line 'global x' inside h\n",
    "# x=5\n",
    "# h(x)\n",
    "# print(x)\n",
    "# show error because aap global variable ko use kar sakte ho but esme kuchh change nahi kar sakte function ke under"
   ]
  },
  {
   "cell_type": "markdown",
   "id": "e66acf31",
   "metadata": {},
   "source": [
    "###  three key concept\n",
    "1. global variable ko koi bhi function use kar sakta hai.\n",
    "2. local variable function ke under create hota hai aur function ke sath hi destroy ho jata hai , function ke under yadi koi variable (local variable) nahi hai to woh global variable ko use kar sakta hai.\n",
    "3. global variable ko function sirf use kar sakta hai use change nahi kar sakta hai"
   ]
  },
  {
   "cell_type": "markdown",
   "id": "60142ef0",
   "metadata": {},
   "source": [
    "###  yadi change karna chahe to change kar sakte hai global keyword use karke but yeh sahi nahi hai ,aap ese nhi ke brabar hi use kare"
   ]
  },
  {
   "cell_type": "code",
   "execution_count": 23,
   "id": "05d96efe",
   "metadata": {},
   "outputs": [
    {
     "name": "stdout",
     "output_type": "stream",
     "text": [
      "6\n"
     ]
    }
   ],
   "source": [
    "def h(y):\n",
    "    global x  # es prakar se change kar sakte hai\n",
    "    x += 1\n",
    "x=5\n",
    "h(x)\n",
    "print(x)"
   ]
  },
  {
   "cell_type": "markdown",
   "id": "3aafea4e",
   "metadata": {},
   "source": [
    "###  es code se yeh sabit ho raha hai ki global variable me koi change nahi hoga ha function me x=x+1 ho raha but las me x ko print karenge to globle value hi dega"
   ]
  },
  {
   "cell_type": "code",
   "execution_count": 24,
   "id": "a6699296",
   "metadata": {},
   "outputs": [
    {
     "name": "stdout",
     "output_type": "stream",
     "text": [
      "in f(x):x= 4\n",
      "in main program scope:z = 4\n",
      "in main program scope: x= 3\n"
     ]
    }
   ],
   "source": [
    "def f(x):\n",
    "    x = x+1\n",
    "    print('in f(x):x=',x)\n",
    "    return x\n",
    "x=3\n",
    "z=f(x)\n",
    "print('in main program scope:z =',z)\n",
    "print('in main program scope: x=',x)"
   ]
  },
  {
   "cell_type": "markdown",
   "id": "24c3a08f",
   "metadata": {},
   "source": [
    "### nested function"
   ]
  },
  {
   "cell_type": "code",
   "execution_count": 26,
   "id": "995903aa",
   "metadata": {},
   "outputs": [],
   "source": [
    "def f():\n",
    "    print(\"inside f\")\n",
    "    def g():\n",
    "        print(\"inside g\")\n",
    "    g()"
   ]
  },
  {
   "cell_type": "code",
   "execution_count": 29,
   "id": "85e87224",
   "metadata": {},
   "outputs": [
    {
     "name": "stdout",
     "output_type": "stream",
     "text": [
      "inside f\n",
      "inside g\n"
     ]
    }
   ],
   "source": [
    "f()"
   ]
  },
  {
   "cell_type": "markdown",
   "id": "4f869d7c",
   "metadata": {},
   "source": [
    "# g()\n",
    "# yeh run nahi hoga error show karega because\n",
    "###  note : nested function main program se hidden rahta hai"
   ]
  },
  {
   "cell_type": "code",
   "execution_count": 31,
   "id": "fa17e404",
   "metadata": {},
   "outputs": [
    {
     "name": "stdout",
     "output_type": "stream",
     "text": [
      "in g(x):x= 4\n"
     ]
    }
   ],
   "source": [
    "def g(x):\n",
    "    def h():\n",
    "        x='abc'\n",
    "    x = x+1\n",
    "    print('in g(x):x=',x)\n",
    "    h()\n",
    "    return x\n",
    "x=3\n",
    "z=g(x)"
   ]
  },
  {
   "cell_type": "code",
   "execution_count": 33,
   "id": "10c66a86",
   "metadata": {},
   "outputs": [
    {
     "name": "stdout",
     "output_type": "stream",
     "text": [
      "in g(x):x =  4\n",
      "in h(x):x= 5\n",
      "in main program scope: x = 3\n",
      "in main program scope : z = 4\n"
     ]
    }
   ],
   "source": [
    "def g(x):\n",
    "    def h(x):\n",
    "        x = x+1\n",
    "        print(\"in h(x):x=\",x)\n",
    "    x = x+1\n",
    "    print('in g(x):x = ',x)\n",
    "    h(x)\n",
    "    return x\n",
    "x=3\n",
    "z = g(x)\n",
    "print('in main program scope: x =',x)\n",
    "print('in main program scope : z =',z)"
   ]
  },
  {
   "cell_type": "markdown",
   "id": "ada959fa",
   "metadata": {},
   "source": [
    "###  everything in python an object\n",
    "fuctions to\n",
    "# so what\n",
    "1.renaming a function\n",
    "2.delating a function\n",
    "3. storing a function\n",
    "4. returning a function\n",
    "5. functions as argument\n",
    "# yes python functions 'possible'"
   ]
  },
  {
   "cell_type": "code",
   "execution_count": 35,
   "id": "09a2bea4",
   "metadata": {},
   "outputs": [
    {
     "name": "stdout",
     "output_type": "stream",
     "text": [
      "inside func_c\n",
      "inside func_a\n",
      "None\n"
     ]
    }
   ],
   "source": [
    "def func_a():\n",
    "    print('inside func_a')\n",
    "    \n",
    "def func_c(z):\n",
    "    print('inside func_c')\n",
    "    return z()\n",
    "print(func_c(func_a))"
   ]
  },
  {
   "cell_type": "code",
   "execution_count": 36,
   "id": "63cc5358",
   "metadata": {},
   "outputs": [
    {
     "name": "stdout",
     "output_type": "stream",
     "text": [
      "7\n"
     ]
    }
   ],
   "source": [
    "def f():\n",
    "    def x(a,b):\n",
    "        return a+b\n",
    "    return x\n",
    "# the first part , f(),returns a function object\n",
    "# then apply that function with parameters 3 and 4\n",
    "val = f()(3,4)\n",
    "print(val)"
   ]
  },
  {
   "cell_type": "markdown",
   "id": "bcd2ab9b",
   "metadata": {},
   "source": [
    "###  benefits of using a function\n",
    "# 1. code modularity\n",
    "# 2. code reusability\n",
    "# 3. code readability"
   ]
  },
  {
   "cell_type": "markdown",
   "id": "442666f2",
   "metadata": {},
   "source": [
    "### python questions practice exercise"
   ]
  },
  {
   "cell_type": "markdown",
   "id": "f983a042",
   "metadata": {},
   "source": [
    "### create a function in python"
   ]
  },
  {
   "cell_type": "code",
   "execution_count": 1,
   "id": "944c4f09",
   "metadata": {},
   "outputs": [],
   "source": [
    "def func(name,age):\n",
    "    return(name,age)\n",
    "\n",
    "    "
   ]
  },
  {
   "cell_type": "code",
   "execution_count": 2,
   "id": "572c0ce3",
   "metadata": {},
   "outputs": [
    {
     "data": {
      "text/plain": [
       "('rajeev', 23)"
      ]
     },
     "execution_count": 2,
     "metadata": {},
     "output_type": "execute_result"
    }
   ],
   "source": [
    "func('rajeev',23)"
   ]
  },
  {
   "cell_type": "code",
   "execution_count": 3,
   "id": "6bd4c410",
   "metadata": {},
   "outputs": [
    {
     "name": "stdout",
     "output_type": "stream",
     "text": [
      "rajeev 23\n"
     ]
    }
   ],
   "source": [
    "# or\n",
    "def func(name,age):\n",
    "    print(name,age)\n",
    "func('rajeev',23)"
   ]
  },
  {
   "cell_type": "markdown",
   "id": "246959f9",
   "metadata": {},
   "source": [
    "###  to create functions that take n number of positional arguments "
   ]
  },
  {
   "cell_type": "code",
   "execution_count": 4,
   "id": "78e29228",
   "metadata": {},
   "outputs": [],
   "source": [
    "# 2.\n",
    "def func(*number):\n",
    "    print(number)\n"
   ]
  },
  {
   "cell_type": "code",
   "execution_count": 5,
   "id": "b8aaa31b",
   "metadata": {},
   "outputs": [
    {
     "name": "stdout",
     "output_type": "stream",
     "text": [
      "(1, 2, 3, 4, 5, 6, 7, 8, 9, 0)\n"
     ]
    }
   ],
   "source": [
    "func(1,2,3,4,5,6,7,8,9,0)"
   ]
  },
  {
   "cell_type": "code",
   "execution_count": 6,
   "id": "9324fdca",
   "metadata": {},
   "outputs": [],
   "source": [
    "# or \n",
    "def func(*number):\n",
    "    return(number)\n"
   ]
  },
  {
   "cell_type": "code",
   "execution_count": 7,
   "id": "6a477ae1",
   "metadata": {},
   "outputs": [
    {
     "data": {
      "text/plain": [
       "(1, 2, 3, 4, 5, 7)"
      ]
     },
     "execution_count": 7,
     "metadata": {},
     "output_type": "execute_result"
    }
   ],
   "source": [
    "func(1,2,3,4,5,7)"
   ]
  },
  {
   "cell_type": "code",
   "execution_count": 8,
   "id": "8924dc81",
   "metadata": {},
   "outputs": [
    {
     "name": "stdout",
     "output_type": "stream",
     "text": [
      "100\n",
      "2000\n",
      "34\n",
      "1\n",
      "3\n",
      "7\n"
     ]
    }
   ],
   "source": [
    "# or\n",
    "def func(*number):\n",
    "    for i in number:\n",
    "        print(i)\n",
    "func(100,2000,34)\n",
    "func(1,3,7)\n",
    "    "
   ]
  },
  {
   "cell_type": "markdown",
   "id": "96ea8561",
   "metadata": {},
   "source": [
    "###  return multiple values from a function"
   ]
  },
  {
   "cell_type": "code",
   "execution_count": 10,
   "id": "c7281692",
   "metadata": {},
   "outputs": [
    {
     "name": "stdout",
     "output_type": "stream",
     "text": [
      "1 2\n"
     ]
    },
    {
     "data": {
      "text/plain": [
       "(1, 2)"
      ]
     },
     "execution_count": 10,
     "metadata": {},
     "output_type": "execute_result"
    }
   ],
   "source": [
    "# 3\n",
    "def func(a,b):\n",
    "    print(a,b)\n",
    "    return(a,b)\n",
    "func(1,2)"
   ]
  },
  {
   "cell_type": "code",
   "execution_count": 11,
   "id": "6b9b5b75",
   "metadata": {},
   "outputs": [
    {
     "name": "stdout",
     "output_type": "stream",
     "text": [
      "(50, 30)\n"
     ]
    }
   ],
   "source": [
    "# Or\n",
    "def calculation(a,b):\n",
    "    addition = a+b\n",
    "    subtraction = a-b\n",
    "    #return multiple value separate by comma\n",
    "    return addition,subtraction\n",
    "# get result in tuple format\n",
    "res = calculation(40,10)\n",
    "print(res)"
   ]
  },
  {
   "cell_type": "code",
   "execution_count": 13,
   "id": "b6c0c124",
   "metadata": {},
   "outputs": [
    {
     "name": "stdout",
     "output_type": "stream",
     "text": [
      "50 30\n"
     ]
    }
   ],
   "source": [
    "# 0r\n",
    "def calculation(a,b):\n",
    "    return a+b,a-b\n",
    "# get result in tuple format\n",
    "# unpack tuple\n",
    "add,sub = calculation(40,10)\n",
    "print(add,sub)"
   ]
  },
  {
   "cell_type": "markdown",
   "id": "0ee69f66",
   "metadata": {},
   "source": [
    "###  create a function with a default argument"
   ]
  },
  {
   "cell_type": "code",
   "execution_count": 15,
   "id": "8ff40c77",
   "metadata": {},
   "outputs": [
    {
     "name": "stdout",
     "output_type": "stream",
     "text": [
      "('rajeev', 12000)\n"
     ]
    }
   ],
   "source": [
    "def func(name,salary=9000):\n",
    "    return(name,salary)\n",
    "employee=func('rajeev',12000)\n",
    "print(employee)"
   ]
  },
  {
   "cell_type": "code",
   "execution_count": 16,
   "id": "d9aa3e16",
   "metadata": {},
   "outputs": [
    {
     "name": "stdout",
     "output_type": "stream",
     "text": [
      "('rajeev', 9000)\n"
     ]
    }
   ],
   "source": [
    "def func(name,salary=9000):\n",
    "    return(name,salary)\n",
    "employee=func('rajeev')\n",
    "print(employee)"
   ]
  },
  {
   "cell_type": "markdown",
   "id": "baee9942",
   "metadata": {},
   "source": [
    "###  create an inner function to calculate the addition in the following way"
   ]
  },
  {
   "cell_type": "code",
   "execution_count": 31,
   "id": "7a0a35e1",
   "metadata": {},
   "outputs": [
    {
     "name": "stdout",
     "output_type": "stream",
     "text": [
      "20\n"
     ]
    }
   ],
   "source": [
    "def func(a,b):\n",
    "    square = a**2\n",
    "    def func1(a,b):\n",
    "        return a+b\n",
    "    add=func1(a,b)\n",
    "    return add + 5\n",
    "    \n",
    "c=func(5,10)\n",
    "print(c)pytho\n",
    "\n",
    "    "
   ]
  },
  {
   "cell_type": "markdown",
   "id": "49f003a1",
   "metadata": {},
   "source": [
    "###  variable length keyword argument"
   ]
  },
  {
   "cell_type": "code",
   "execution_count": 4,
   "id": "e5eb8538",
   "metadata": {},
   "outputs": [
    {
     "name": "stdout",
     "output_type": "stream",
     "text": [
      "first geeks\n",
      "mid for\n",
      "last geeks\n"
     ]
    }
   ],
   "source": [
    "def myfunc(**val):\n",
    "    for key,value in val.items():\n",
    "        print(key,value)\n",
    "myfunc(first='geeks',mid='for',last='geeks')"
   ]
  },
  {
   "cell_type": "code",
   "execution_count": 7,
   "id": "7a058744",
   "metadata": {},
   "outputs": [
    {
     "name": "stdout",
     "output_type": "stream",
     "text": [
      "first==geeks\n",
      "mid==for\n",
      "last==geeks\n"
     ]
    }
   ],
   "source": [
    "def myfunc(**val):\n",
    "    for key,value in val.items():\n",
    "        print(\"%s==%s\" %(key,value))\n",
    "myfunc(first='geeks',mid='for',last='geeks')"
   ]
  },
  {
   "cell_type": "markdown",
   "id": "671f57aa",
   "metadata": {},
   "source": [
    "###  % - str object is collable"
   ]
  },
  {
   "cell_type": "markdown",
   "id": "a7d8fd0f",
   "metadata": {},
   "source": [
    "###  even and odd"
   ]
  },
  {
   "cell_type": "code",
   "execution_count": 2,
   "id": "b95a1aa9",
   "metadata": {},
   "outputs": [
    {
     "data": {
      "text/plain": [
       "'odd'"
      ]
     },
     "execution_count": 2,
     "metadata": {},
     "output_type": "execute_result"
    }
   ],
   "source": [
    "def func(a):\n",
    "    if a%2==0:\n",
    "        return \"even\"\n",
    "    else:\n",
    "        return \"odd\"\n",
    "func(5)"
   ]
  },
  {
   "cell_type": "code",
   "execution_count": 3,
   "id": "c928cbd0",
   "metadata": {},
   "outputs": [
    {
     "name": "stdout",
     "output_type": "stream",
     "text": [
      "even\n"
     ]
    }
   ],
   "source": [
    "print(func(4))"
   ]
  },
  {
   "cell_type": "markdown",
   "id": "d4b16838",
   "metadata": {},
   "source": [
    "###  return statement in python function"
   ]
  },
  {
   "cell_type": "markdown",
   "id": "771b7de0",
   "metadata": {},
   "source": [
    "###  syntex:\n",
    "return[expression_list]"
   ]
  },
  {
   "cell_type": "code",
   "execution_count": 10,
   "id": "2dd2b2ec",
   "metadata": {},
   "outputs": [
    {
     "name": "stdout",
     "output_type": "stream",
     "text": [
      "49\n"
     ]
    }
   ],
   "source": [
    "def square(a):\n",
    "    return a**2\n",
    "print(square(7))"
   ]
  },
  {
   "cell_type": "code",
   "execution_count": 11,
   "id": "34420c88",
   "metadata": {},
   "outputs": [
    {
     "name": "stdout",
     "output_type": "stream",
     "text": [
      "[20, 20, 37, 29, 19]\n"
     ]
    }
   ],
   "source": [
    "def func(x):\n",
    "    x[0]=20\n",
    "lst=[10,20,37,29,19]\n",
    "func(lst)\n",
    "print(lst)\n",
    "    "
   ]
  },
  {
   "cell_type": "markdown",
   "id": "cc591231",
   "metadata": {},
   "source": [
    "###  pass by references or pass by value"
   ]
  },
  {
   "cell_type": "code",
   "execution_count": 16,
   "id": "340690b7",
   "metadata": {},
   "outputs": [
    {
     "name": "stdout",
     "output_type": "stream",
     "text": [
      "[10, 20, 37, 29, 19]\n"
     ]
    }
   ],
   "source": [
    "def func(x):\n",
    "     if x[0]==20:\n",
    "        return \n",
    "lst=[10,20,37,29,19]\n",
    "func(lst)\n",
    "print(lst)\n",
    "    "
   ]
  },
  {
   "cell_type": "markdown",
   "id": "551d4b1e",
   "metadata": {},
   "source": [
    "###  guess the output"
   ]
  },
  {
   "cell_type": "code",
   "execution_count": 17,
   "id": "dc2bec80",
   "metadata": {},
   "outputs": [
    {
     "name": "stdout",
     "output_type": "stream",
     "text": [
      "2\n",
      "3\n"
     ]
    }
   ],
   "source": [
    "def swap(x,y):\n",
    "    temp =x\n",
    "    x=y\n",
    "    y = temp\n",
    "x=2\n",
    "y=3\n",
    "swap(x,y)\n",
    "print(x)\n",
    "print(y)"
   ]
  },
  {
   "cell_type": "code",
   "execution_count": 21,
   "id": "c7026aad",
   "metadata": {},
   "outputs": [
    {
     "name": "stdout",
     "output_type": "stream",
     "text": [
      "2\n",
      "3\n"
     ]
    }
   ],
   "source": [
    "def swap1(x,y):\n",
    "    temp =x\n",
    "    x=y\n",
    "    y =temp\n",
    "    return(x,y)\n",
    "x=2\n",
    "y=3\n",
    "swap1(x,y)\n",
    "print(x)\n",
    "print(y)"
   ]
  },
  {
   "cell_type": "code",
   "execution_count": 22,
   "id": "777eb485",
   "metadata": {},
   "outputs": [
    {
     "name": "stdout",
     "output_type": "stream",
     "text": [
      "(3, 2)\n",
      "2\n",
      "3\n"
     ]
    }
   ],
   "source": [
    "def swap1(x,y):\n",
    "    temp =x\n",
    "    x=y\n",
    "    y =temp\n",
    "    return(x,y)\n",
    "x=2\n",
    "y=3\n",
    "print(swap1(x,y))\n",
    "print(x)\n",
    "print(y)"
   ]
  },
  {
   "cell_type": "markdown",
   "id": "bf10bf81",
   "metadata": {},
   "source": [
    "###  python function within functions"
   ]
  },
  {
   "cell_type": "code",
   "execution_count": 25,
   "id": "9d3c72b2",
   "metadata": {},
   "outputs": [
    {
     "name": "stdout",
     "output_type": "stream",
     "text": [
      "GeeksforGeeks\n"
     ]
    }
   ],
   "source": [
    "def f1():\n",
    "    s='GeeksforGeeks'\n",
    "    def f2():\n",
    "        print(s)\n",
    "    f2()\n",
    "f1()"
   ]
  },
  {
   "cell_type": "markdown",
   "id": "0a7326e4",
   "metadata": {},
   "source": [
    "###  python program to illustrate *args with a first extra argument"
   ]
  },
  {
   "cell_type": "code",
   "execution_count": 2,
   "id": "41a25bb4",
   "metadata": {},
   "outputs": [
    {
     "name": "stdout",
     "output_type": "stream",
     "text": [
      "first argument : hello\n",
      "next argument through *arg : welcome\n",
      "next argument through *arg : to\n",
      "next argument through *arg : geeksforgeeks\n"
     ]
    }
   ],
   "source": [
    "def myfunc(arg1,*argv):\n",
    "    print(\"first argument :\",arg1)\n",
    "    for arg in argv:\n",
    "        print(\"next argument through *arg :\",arg)\n",
    "myfunc(\"hello\",\"welcome\",\"to\",\"geeksforgeeks\")"
   ]
  },
  {
   "cell_type": "code",
   "execution_count": 3,
   "id": "d9484b51",
   "metadata": {},
   "outputs": [
    {
     "name": "stdout",
     "output_type": "stream",
     "text": [
      "first argument : hello\n",
      "next argument through *arg : ('welcome', 'to', 'geeksforgeeks')\n"
     ]
    }
   ],
   "source": [
    "def myfunc(arg1,*argv):\n",
    "    print(\"first argument :\",arg1)\n",
    "    \n",
    "    print(\"next argument through *arg :\",argv)\n",
    "myfunc(\"hello\",\"welcome\",\"to\",\"geeksforgeeks\")"
   ]
  },
  {
   "cell_type": "markdown",
   "id": "dc87d53c",
   "metadata": {},
   "source": [
    "### Python **kwargs "
   ]
  },
  {
   "cell_type": "markdown",
   "id": "db9ab320",
   "metadata": {},
   "source": [
    "###  Python program to illustrate *kwargs for a variable number of keyword arguments. Here **kwargs accept keyworded variable-length argument passed by the function call. for first=’Geeks’ first is key and ‘Geeks’ is a value. in simple words, what we assign is value, and to whom we assign is key. "
   ]
  },
  {
   "cell_type": "code",
   "execution_count": 4,
   "id": "b583a590",
   "metadata": {},
   "outputs": [
    {
     "name": "stdout",
     "output_type": "stream",
     "text": [
      "first == Geeks\n",
      "mid == for\n",
      "last == Geeks\n"
     ]
    }
   ],
   "source": [
    "def myFun(**kwargs):\n",
    "    for key, value in kwargs.items():\n",
    "        print(\"%s == %s\" % (key, value))\n",
    " \n",
    " \n",
    "# Driver code\n",
    "myFun(first='Geeks', mid='for', last='Geeks')"
   ]
  },
  {
   "cell_type": "code",
   "execution_count": 5,
   "id": "a48a0079",
   "metadata": {},
   "outputs": [
    {
     "name": "stdout",
     "output_type": "stream",
     "text": [
      "('first', 'Geeks')\n",
      "('mid', 'for')\n",
      "('last', 'Geeks')\n"
     ]
    }
   ],
   "source": [
    "def myFun(**kwargs):\n",
    "    for key, value in kwargs.items():\n",
    "        print((key, value))\n",
    " \n",
    " \n",
    "# Driver code\n",
    "myFun(first='Geeks', mid='for', last='Geeks')"
   ]
  },
  {
   "cell_type": "code",
   "execution_count": 8,
   "id": "043ea3c6",
   "metadata": {},
   "outputs": [
    {
     "name": "stdout",
     "output_type": "stream",
     "text": [
      "Hi\n",
      "first == Geeks\n",
      "mid == for\n",
      "last == Geeks\n"
     ]
    }
   ],
   "source": [
    "def myFun(arg1, **kwargs):\n",
    "    print(arg1)\n",
    "    for key, value in kwargs.items():\n",
    "        print(\"%s == %s\" % (key, value))\n",
    "\n",
    "myFun(\"Hi\", first='Geeks', mid='for', last='Geeks')\n"
   ]
  },
  {
   "cell_type": "code",
   "execution_count": null,
   "id": "3bb83677",
   "metadata": {},
   "outputs": [],
   "source": []
  }
 ],
 "metadata": {
  "kernelspec": {
   "display_name": "Python 3 (ipykernel)",
   "language": "python",
   "name": "python3"
  },
  "language_info": {
   "codemirror_mode": {
    "name": "ipython",
    "version": 3
   },
   "file_extension": ".py",
   "mimetype": "text/x-python",
   "name": "python",
   "nbconvert_exporter": "python",
   "pygments_lexer": "ipython3",
   "version": "3.9.12"
  }
 },
 "nbformat": 4,
 "nbformat_minor": 5
}
